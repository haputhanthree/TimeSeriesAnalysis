{
 "cells": [
  {
   "cell_type": "markdown",
   "metadata": {},
   "source": [
    "What is time seris?\n",
    "Time series is data is collected over period of time."
   ]
  },
  {
   "cell_type": "code",
   "execution_count": 4,
   "metadata": {},
   "outputs": [],
   "source": [
    "import pandas as pd\n",
    "import matplotlib.pyplot as plt\n",
    "#displaly just below. will avoid plt.show()\n",
    "%matplotlib inline"
   ]
  },
  {
   "cell_type": "code",
   "execution_count": 33,
   "metadata": {},
   "outputs": [],
   "source": [
    "birthdata = pd.read_csv('E:\\Amila\\Amila\\Predictive Analytics\\L&D\\Births2015.csv',index_col = [0] , parse_dates = [0])"
   ]
  },
  {
   "cell_type": "code",
   "execution_count": 34,
   "metadata": {},
   "outputs": [
    {
     "data": {
      "text/html": [
       "<div>\n",
       "<style scoped>\n",
       "    .dataframe tbody tr th:only-of-type {\n",
       "        vertical-align: middle;\n",
       "    }\n",
       "\n",
       "    .dataframe tbody tr th {\n",
       "        vertical-align: top;\n",
       "    }\n",
       "\n",
       "    .dataframe thead th {\n",
       "        text-align: right;\n",
       "    }\n",
       "</style>\n",
       "<table border=\"1\" class=\"dataframe\">\n",
       "  <thead>\n",
       "    <tr style=\"text-align: right;\">\n",
       "      <th></th>\n",
       "      <th>births</th>\n",
       "    </tr>\n",
       "    <tr>\n",
       "      <th>date</th>\n",
       "      <th></th>\n",
       "    </tr>\n",
       "  </thead>\n",
       "  <tbody>\n",
       "    <tr>\n",
       "      <th>2015-01-01</th>\n",
       "      <td>8068</td>\n",
       "    </tr>\n",
       "    <tr>\n",
       "      <th>2015-01-02</th>\n",
       "      <td>10850</td>\n",
       "    </tr>\n",
       "    <tr>\n",
       "      <th>2015-01-03</th>\n",
       "      <td>8328</td>\n",
       "    </tr>\n",
       "    <tr>\n",
       "      <th>2015-01-04</th>\n",
       "      <td>7065</td>\n",
       "    </tr>\n",
       "    <tr>\n",
       "      <th>2015-01-05</th>\n",
       "      <td>11892</td>\n",
       "    </tr>\n",
       "  </tbody>\n",
       "</table>\n",
       "</div>"
      ],
      "text/plain": [
       "            births\n",
       "date              \n",
       "2015-01-01    8068\n",
       "2015-01-02   10850\n",
       "2015-01-03    8328\n",
       "2015-01-04    7065\n",
       "2015-01-05   11892"
      ]
     },
     "execution_count": 34,
     "metadata": {},
     "output_type": "execute_result"
    }
   ],
   "source": [
    "birthdata.head()"
   ]
  },
  {
   "cell_type": "code",
   "execution_count": 17,
   "metadata": {},
   "outputs": [
    {
     "data": {
      "text/html": [
       "<div>\n",
       "<style scoped>\n",
       "    .dataframe tbody tr th:only-of-type {\n",
       "        vertical-align: middle;\n",
       "    }\n",
       "\n",
       "    .dataframe tbody tr th {\n",
       "        vertical-align: top;\n",
       "    }\n",
       "\n",
       "    .dataframe thead th {\n",
       "        text-align: right;\n",
       "    }\n",
       "</style>\n",
       "<table border=\"1\" class=\"dataframe\">\n",
       "  <thead>\n",
       "    <tr style=\"text-align: right;\">\n",
       "      <th></th>\n",
       "      <th>births</th>\n",
       "    </tr>\n",
       "  </thead>\n",
       "  <tbody>\n",
       "    <tr>\n",
       "      <th>count</th>\n",
       "      <td>365.000000</td>\n",
       "    </tr>\n",
       "    <tr>\n",
       "      <th>mean</th>\n",
       "      <td>10899.991781</td>\n",
       "    </tr>\n",
       "    <tr>\n",
       "      <th>std</th>\n",
       "      <td>2076.683881</td>\n",
       "    </tr>\n",
       "    <tr>\n",
       "      <th>min</th>\n",
       "      <td>6515.000000</td>\n",
       "    </tr>\n",
       "    <tr>\n",
       "      <th>25%</th>\n",
       "      <td>8431.000000</td>\n",
       "    </tr>\n",
       "    <tr>\n",
       "      <th>50%</th>\n",
       "      <td>11883.000000</td>\n",
       "    </tr>\n",
       "    <tr>\n",
       "      <th>75%</th>\n",
       "      <td>12339.000000</td>\n",
       "    </tr>\n",
       "    <tr>\n",
       "      <th>max</th>\n",
       "      <td>13949.000000</td>\n",
       "    </tr>\n",
       "  </tbody>\n",
       "</table>\n",
       "</div>"
      ],
      "text/plain": [
       "             births\n",
       "count    365.000000\n",
       "mean   10899.991781\n",
       "std     2076.683881\n",
       "min     6515.000000\n",
       "25%     8431.000000\n",
       "50%    11883.000000\n",
       "75%    12339.000000\n",
       "max    13949.000000"
      ]
     },
     "execution_count": 17,
     "metadata": {},
     "output_type": "execute_result"
    }
   ],
   "source": [
    "#give stat of dataset\n",
    "birthdata.describe()"
   ]
  },
  {
   "cell_type": "code",
   "execution_count": 18,
   "metadata": {},
   "outputs": [
    {
     "data": {
      "text/html": [
       "<div>\n",
       "<style scoped>\n",
       "    .dataframe tbody tr th:only-of-type {\n",
       "        vertical-align: middle;\n",
       "    }\n",
       "\n",
       "    .dataframe tbody tr th {\n",
       "        vertical-align: top;\n",
       "    }\n",
       "\n",
       "    .dataframe thead th {\n",
       "        text-align: right;\n",
       "    }\n",
       "</style>\n",
       "<table border=\"1\" class=\"dataframe\">\n",
       "  <thead>\n",
       "    <tr style=\"text-align: right;\">\n",
       "      <th></th>\n",
       "      <th>births</th>\n",
       "    </tr>\n",
       "    <tr>\n",
       "      <th>date</th>\n",
       "      <th></th>\n",
       "    </tr>\n",
       "  </thead>\n",
       "  <tbody>\n",
       "    <tr>\n",
       "      <th>2015-12-27</th>\n",
       "      <td>7518</td>\n",
       "    </tr>\n",
       "    <tr>\n",
       "      <th>2015-12-28</th>\n",
       "      <td>13100</td>\n",
       "    </tr>\n",
       "    <tr>\n",
       "      <th>2015-12-29</th>\n",
       "      <td>13458</td>\n",
       "    </tr>\n",
       "    <tr>\n",
       "      <th>2015-12-30</th>\n",
       "      <td>13100</td>\n",
       "    </tr>\n",
       "    <tr>\n",
       "      <th>2015-12-31</th>\n",
       "      <td>11608</td>\n",
       "    </tr>\n",
       "  </tbody>\n",
       "</table>\n",
       "</div>"
      ],
      "text/plain": [
       "            births\n",
       "date              \n",
       "2015-12-27    7518\n",
       "2015-12-28   13100\n",
       "2015-12-29   13458\n",
       "2015-12-30   13100\n",
       "2015-12-31   11608"
      ]
     },
     "execution_count": 18,
     "metadata": {},
     "output_type": "execute_result"
    }
   ],
   "source": [
    "birthdata.tail()"
   ]
  },
  {
   "cell_type": "code",
   "execution_count": 14,
   "metadata": {},
   "outputs": [
    {
     "data": {
      "text/plain": [
       "pandas.core.frame.DataFrame"
      ]
     },
     "execution_count": 14,
     "metadata": {},
     "output_type": "execute_result"
    }
   ],
   "source": [
    "type(birthdata)"
   ]
  },
  {
   "cell_type": "code",
   "execution_count": 15,
   "metadata": {},
   "outputs": [],
   "source": [
    "#convert to datafarame to a array / This could done by initializing \"squees = true\"  in read elemet\n",
    "birthdataSeries = birthdata.values"
   ]
  },
  {
   "cell_type": "code",
   "execution_count": 19,
   "metadata": {},
   "outputs": [
    {
     "data": {
      "text/plain": [
       "<AxesSubplot:xlabel='date'>"
      ]
     },
     "execution_count": 19,
     "metadata": {},
     "output_type": "execute_result"
    },
    {
     "data": {
      "image/png": "[encoded data removed]",
      "text/plain": [
       "<Figure size 432x288 with 1 Axes>"
      ]
     },
     "metadata": {
      "needs_background": "light"
     },
     "output_type": "display_data"
    }
   ],
   "source": [
    "birthdata.plot()"
   ]
  },
  {
   "cell_type": "code",
   "execution_count": 25,
   "metadata": {},
   "outputs": [],
   "source": [
    "#get 20 day rolling meanv( moving average)\n",
    "birthdata_mean = birthdata.rolling( window = 20).mean()"
   ]
  },
  {
   "cell_type": "code",
   "execution_count": 16,
   "metadata": {},
   "outputs": [
    {
     "data": {
      "text/plain": [
       "numpy.ndarray"
      ]
     },
     "execution_count": 16,
     "metadata": {},
     "output_type": "execute_result"
    }
   ],
   "source": [
    "type(birthdataSeries)"
   ]
  },
  {
   "cell_type": "code",
   "execution_count": 41,
   "metadata": {},
   "outputs": [
    {
     "data": {
      "text/plain": [
       "array([[ 8068],\n",
       "       [10850],\n",
       "       [ 8328],\n",
       "       [ 7065],\n",
       "       [11892],\n",
       "       [12425],\n",
       "       [12141],\n",
       "       [12094],\n",
       "       [11868],\n",
       "       [ 8014],\n",
       "       [ 7172],\n",
       "       [11479],\n",
       "       [11924],\n",
       "       [12013],\n",
       "       [12339],\n",
       "       [11861],\n",
       "       [ 8280],\n",
       "       [ 7195],\n",
       "       [10602],\n",
       "       [12242],\n",
       "       [12086],\n",
       "       [11949],\n",
       "       [11910],\n",
       "       [ 8235],\n",
       "       [ 7186],\n",
       "       [11728],\n",
       "       [11882],\n",
       "       [11602],\n",
       "       [11967],\n",
       "       [11571],\n",
       "       [ 7987],\n",
       "       [ 7139],\n",
       "       [11480],\n",
       "       [12079],\n",
       "       [11924],\n",
       "       [11821],\n",
       "       [11656],\n",
       "       [ 8285],\n",
       "       [ 7265],\n",
       "       [11937],\n",
       "       [12291],\n",
       "       [11911],\n",
       "       [12285],\n",
       "       [11321],\n",
       "       [ 8390],\n",
       "       [ 7508],\n",
       "       [11038],\n",
       "       [11952],\n",
       "       [12061],\n",
       "       [11968],\n",
       "       [11864],\n",
       "       [ 8343],\n",
       "       [ 7254],\n",
       "       [11260],\n",
       "       [11941],\n",
       "       [11828],\n",
       "       [11672],\n",
       "       [11596],\n",
       "       [ 7989],\n",
       "       [ 7273],\n",
       "       [11609],\n",
       "       [12402],\n",
       "       [11927],\n",
       "       [11681],\n",
       "       [11612],\n",
       "       [ 7980],\n",
       "       [ 6929],\n",
       "       [11678],\n",
       "       [12282],\n",
       "       [11850],\n",
       "       [12042],\n",
       "       [10940],\n",
       "       [ 8217],\n",
       "       [ 7202],\n",
       "       [11537],\n",
       "       [12312],\n",
       "       [11807],\n",
       "       [11721],\n",
       "       [12040],\n",
       "       [ 8080],\n",
       "       [ 7171],\n",
       "       [11674],\n",
       "       [12333],\n",
       "       [11872],\n",
       "       [12065],\n",
       "       [11629],\n",
       "       [ 8071],\n",
       "       [ 7125],\n",
       "       [11500],\n",
       "       [12362],\n",
       "       [11596],\n",
       "       [12296],\n",
       "       [11234],\n",
       "       [ 7981],\n",
       "       [ 6821],\n",
       "       [11455],\n",
       "       [12334],\n",
       "       [11976],\n",
       "       [11874],\n",
       "       [11724],\n",
       "       [ 8092],\n",
       "       [ 7141],\n",
       "       [11503],\n",
       "       [12309],\n",
       "       [11794],\n",
       "       [11947],\n",
       "       [11718],\n",
       "       [ 8028],\n",
       "       [ 7180],\n",
       "       [11513],\n",
       "       [12173],\n",
       "       [11917],\n",
       "       [11877],\n",
       "       [11749],\n",
       "       [ 8101],\n",
       "       [ 7178],\n",
       "       [11494],\n",
       "       [12221],\n",
       "       [11775],\n",
       "       [11831],\n",
       "       [12178],\n",
       "       [ 8075],\n",
       "       [ 7195],\n",
       "       [11724],\n",
       "       [12618],\n",
       "       [11924],\n",
       "       [11649],\n",
       "       [11810],\n",
       "       [ 8216],\n",
       "       [ 7246],\n",
       "       [11549],\n",
       "       [12400],\n",
       "       [11572],\n",
       "       [11793],\n",
       "       [12306],\n",
       "       [ 8337],\n",
       "       [ 7354],\n",
       "       [11708],\n",
       "       [12469],\n",
       "       [12352],\n",
       "       [12246],\n",
       "       [12147],\n",
       "       [ 8267],\n",
       "       [ 7261],\n",
       "       [ 7746],\n",
       "       [12242],\n",
       "       [12845],\n",
       "       [12722],\n",
       "       [12168],\n",
       "       [ 8431],\n",
       "       [ 7367],\n",
       "       [11793],\n",
       "       [11994],\n",
       "       [11890],\n",
       "       [11918],\n",
       "       [12303],\n",
       "       [ 8313],\n",
       "       [ 7230],\n",
       "       [11938],\n",
       "       [12479],\n",
       "       [12123],\n",
       "       [12029],\n",
       "       [12064],\n",
       "       [ 8104],\n",
       "       [ 7292],\n",
       "       [12348],\n",
       "       [12400],\n",
       "       [12192],\n",
       "       [12323],\n",
       "       [11767],\n",
       "       [ 8451],\n",
       "       [ 7580],\n",
       "       [11883],\n",
       "       [12351],\n",
       "       [12292],\n",
       "       [12416],\n",
       "       [12152],\n",
       "       [ 8652],\n",
       "       [ 7371],\n",
       "       [11961],\n",
       "       [12932],\n",
       "       [13033],\n",
       "       [13038],\n",
       "       [10375],\n",
       "       [ 7944],\n",
       "       [ 7164],\n",
       "       [12088],\n",
       "       [13426],\n",
       "       [12788],\n",
       "       [12517],\n",
       "       [12396],\n",
       "       [ 8769],\n",
       "       [ 7591],\n",
       "       [11835],\n",
       "       [12862],\n",
       "       [12853],\n",
       "       [12502],\n",
       "       [12291],\n",
       "       [ 8546],\n",
       "       [ 7681],\n",
       "       [12424],\n",
       "       [13264],\n",
       "       [12519],\n",
       "       [12852],\n",
       "       [12612],\n",
       "       [ 8748],\n",
       "       [ 7836],\n",
       "       [12416],\n",
       "       [13240],\n",
       "       [12739],\n",
       "       [12797],\n",
       "       [12269],\n",
       "       [ 8851],\n",
       "       [ 7907],\n",
       "       [12449],\n",
       "       [13149],\n",
       "       [12793],\n",
       "       [12872],\n",
       "       [12770],\n",
       "       [ 8956],\n",
       "       [ 7726],\n",
       "       [12333],\n",
       "       [13010],\n",
       "       [12960],\n",
       "       [12591],\n",
       "       [12861],\n",
       "       [ 8938],\n",
       "       [ 7896],\n",
       "       [12337],\n",
       "       [13197],\n",
       "       [12966],\n",
       "       [13002],\n",
       "       [12834],\n",
       "       [ 9153],\n",
       "       [ 7821],\n",
       "       [12274],\n",
       "       [13149],\n",
       "       [12729],\n",
       "       [12829],\n",
       "       [12719],\n",
       "       [ 8772],\n",
       "       [ 7805],\n",
       "       [12142],\n",
       "       [13231],\n",
       "       [12799],\n",
       "       [12839],\n",
       "       [12862],\n",
       "       [ 8950],\n",
       "       [ 7778],\n",
       "       [ 8127],\n",
       "       [12823],\n",
       "       [13949],\n",
       "       [13925],\n",
       "       [12295],\n",
       "       [ 9062],\n",
       "       [ 7900],\n",
       "       [12699],\n",
       "       [13439],\n",
       "       [13136],\n",
       "       [13319],\n",
       "       [13229],\n",
       "       [ 9195],\n",
       "       [ 8078],\n",
       "       [12567],\n",
       "       [13047],\n",
       "       [12595],\n",
       "       [12942],\n",
       "       [12792],\n",
       "       [ 8927],\n",
       "       [ 7778],\n",
       "       [12158],\n",
       "       [12791],\n",
       "       [12284],\n",
       "       [13043],\n",
       "       [12399],\n",
       "       [ 8579],\n",
       "       [ 7530],\n",
       "       [12166],\n",
       "       [12520],\n",
       "       [12429],\n",
       "       [12458],\n",
       "       [12282],\n",
       "       [ 8550],\n",
       "       [ 7571],\n",
       "       [11633],\n",
       "       [12094],\n",
       "       [12205],\n",
       "       [12522],\n",
       "       [11917],\n",
       "       [ 8233],\n",
       "       [ 7211],\n",
       "       [11388],\n",
       "       [12500],\n",
       "       [12093],\n",
       "       [12013],\n",
       "       [11942],\n",
       "       [ 8239],\n",
       "       [ 7288],\n",
       "       [11923],\n",
       "       [12485],\n",
       "       [12266],\n",
       "       [11950],\n",
       "       [11529],\n",
       "       [ 8049],\n",
       "       [ 7731],\n",
       "       [12236],\n",
       "       [12524],\n",
       "       [12279],\n",
       "       [12452],\n",
       "       [11909],\n",
       "       [ 8517],\n",
       "       [ 7324],\n",
       "       [11688],\n",
       "       [12451],\n",
       "       [12311],\n",
       "       [12329],\n",
       "       [11643],\n",
       "       [ 8221],\n",
       "       [ 7378],\n",
       "       [11791],\n",
       "       [12321],\n",
       "       [12230],\n",
       "       [12504],\n",
       "       [12495],\n",
       "       [ 8392],\n",
       "       [ 7427],\n",
       "       [12419],\n",
       "       [13051],\n",
       "       [11745],\n",
       "       [ 7332],\n",
       "       [ 8942],\n",
       "       [ 7734],\n",
       "       [ 7230],\n",
       "       [12214],\n",
       "       [13185],\n",
       "       [12708],\n",
       "       [12281],\n",
       "       [11828],\n",
       "       [ 8262],\n",
       "       [ 7194],\n",
       "       [11567],\n",
       "       [12328],\n",
       "       [11857],\n",
       "       [12259],\n",
       "       [11406],\n",
       "       [ 8073],\n",
       "       [ 7262],\n",
       "       [11753],\n",
       "       [12437],\n",
       "       [12282],\n",
       "       [12339],\n",
       "       [12247],\n",
       "       [ 8368],\n",
       "       [ 7361],\n",
       "       [12692],\n",
       "       [13131],\n",
       "       [11595],\n",
       "       [ 8714],\n",
       "       [ 6515],\n",
       "       [ 7294],\n",
       "       [ 7518],\n",
       "       [13100],\n",
       "       [13458],\n",
       "       [13100],\n",
       "       [11608]], dtype=int64)"
      ]
     },
     "execution_count": 41,
     "metadata": {},
     "output_type": "execute_result"
    }
   ],
   "source": [
    "birthdataSeries"
   ]
  },
  {
   "cell_type": "markdown",
   "metadata": {},
   "source": [
    "This moving average will remove the noice of the original data set"
   ]
  },
  {
   "cell_type": "code",
   "execution_count": 27,
   "metadata": {},
   "outputs": [
    {
     "data": {
      "text/plain": [
       "<AxesSubplot:xlabel='date'>"
      ]
     },
     "execution_count": 27,
     "metadata": {},
     "output_type": "execute_result"
    },
    {
     "data": {
      "image/png": "[encoded data removed]",
      "text/plain": [
       "<Figure size 432x288 with 1 Axes>"
      ]
     },
     "metadata": {
      "needs_background": "light"
     },
     "output_type": "display_data"
    },
    {
     "data": {
      "image/png": "[encoded data removed]",
      "text/plain": [
       "<Figure size 432x288 with 1 Axes>"
      ]
     },
     "metadata": {
      "needs_background": "light"
     },
     "output_type": "display_data"
    }
   ],
   "source": [
    "birthdata.plot()\n",
    "birthdata_mean.plot()"
   ]
  },
  {
   "cell_type": "markdown",
   "metadata": {},
   "source": [
    "get predicted next valu by shifting data by one position"
   ]
  },
  {
   "cell_type": "code",
   "execution_count": 44,
   "metadata": {},
   "outputs": [],
   "source": [
    "val = pd.DataFrame(birthdataSeries) "
   ]
  },
  {
   "cell_type": "code",
   "execution_count": 70,
   "metadata": {},
   "outputs": [],
   "source": [
    "birthdata_next = pd.concat([val ,val.shift(1)],axis =1)"
   ]
  },
  {
   "cell_type": "code",
   "execution_count": 71,
   "metadata": {},
   "outputs": [],
   "source": [
    "birthdata_next = birthdata_next[1:]"
   ]
  },
  {
   "cell_type": "code",
   "execution_count": 72,
   "metadata": {},
   "outputs": [
    {
     "data": {
      "text/html": [
       "<div>\n",
       "<style scoped>\n",
       "    .dataframe tbody tr th:only-of-type {\n",
       "        vertical-align: middle;\n",
       "    }\n",
       "\n",
       "    .dataframe tbody tr th {\n",
       "        vertical-align: top;\n",
       "    }\n",
       "\n",
       "    .dataframe thead th {\n",
       "        text-align: right;\n",
       "    }\n",
       "</style>\n",
       "<table border=\"1\" class=\"dataframe\">\n",
       "  <thead>\n",
       "    <tr style=\"text-align: right;\">\n",
       "      <th></th>\n",
       "      <th>0</th>\n",
       "      <th>0</th>\n",
       "    </tr>\n",
       "  </thead>\n",
       "  <tbody>\n",
       "    <tr>\n",
       "      <th>1</th>\n",
       "      <td>10850</td>\n",
       "      <td>8068.0</td>\n",
       "    </tr>\n",
       "    <tr>\n",
       "      <th>2</th>\n",
       "      <td>8328</td>\n",
       "      <td>10850.0</td>\n",
       "    </tr>\n",
       "    <tr>\n",
       "      <th>3</th>\n",
       "      <td>7065</td>\n",
       "      <td>8328.0</td>\n",
       "    </tr>\n",
       "    <tr>\n",
       "      <th>4</th>\n",
       "      <td>11892</td>\n",
       "      <td>7065.0</td>\n",
       "    </tr>\n",
       "    <tr>\n",
       "      <th>5</th>\n",
       "      <td>12425</td>\n",
       "      <td>11892.0</td>\n",
       "    </tr>\n",
       "    <tr>\n",
       "      <th>...</th>\n",
       "      <td>...</td>\n",
       "      <td>...</td>\n",
       "    </tr>\n",
       "    <tr>\n",
       "      <th>360</th>\n",
       "      <td>7518</td>\n",
       "      <td>7294.0</td>\n",
       "    </tr>\n",
       "    <tr>\n",
       "      <th>361</th>\n",
       "      <td>13100</td>\n",
       "      <td>7518.0</td>\n",
       "    </tr>\n",
       "    <tr>\n",
       "      <th>362</th>\n",
       "      <td>13458</td>\n",
       "      <td>13100.0</td>\n",
       "    </tr>\n",
       "    <tr>\n",
       "      <th>363</th>\n",
       "      <td>13100</td>\n",
       "      <td>13458.0</td>\n",
       "    </tr>\n",
       "    <tr>\n",
       "      <th>364</th>\n",
       "      <td>11608</td>\n",
       "      <td>13100.0</td>\n",
       "    </tr>\n",
       "  </tbody>\n",
       "</table>\n",
       "<p>364 rows × 2 columns</p>\n",
       "</div>"
      ],
      "text/plain": [
       "         0        0\n",
       "1    10850   8068.0\n",
       "2     8328  10850.0\n",
       "3     7065   8328.0\n",
       "4    11892   7065.0\n",
       "5    12425  11892.0\n",
       "..     ...      ...\n",
       "360   7518   7294.0\n",
       "361  13100   7518.0\n",
       "362  13458  13100.0\n",
       "363  13100  13458.0\n",
       "364  11608  13100.0\n",
       "\n",
       "[364 rows x 2 columns]"
      ]
     },
     "execution_count": 72,
     "metadata": {},
     "output_type": "execute_result"
    }
   ],
   "source": [
    "birthdata_next"
   ]
  },
  {
   "cell_type": "code",
   "execution_count": 73,
   "metadata": {},
   "outputs": [],
   "source": [
    "birthdata_next = pd.DataFrame(birthdata_next)"
   ]
  },
  {
   "cell_type": "code",
   "execution_count": 74,
   "metadata": {},
   "outputs": [
    {
     "data": {
      "text/html": [
       "<div>\n",
       "<style scoped>\n",
       "    .dataframe tbody tr th:only-of-type {\n",
       "        vertical-align: middle;\n",
       "    }\n",
       "\n",
       "    .dataframe tbody tr th {\n",
       "        vertical-align: top;\n",
       "    }\n",
       "\n",
       "    .dataframe thead th {\n",
       "        text-align: right;\n",
       "    }\n",
       "</style>\n",
       "<table border=\"1\" class=\"dataframe\">\n",
       "  <thead>\n",
       "    <tr style=\"text-align: right;\">\n",
       "      <th></th>\n",
       "      <th>0</th>\n",
       "      <th>0</th>\n",
       "    </tr>\n",
       "  </thead>\n",
       "  <tbody>\n",
       "    <tr>\n",
       "      <th>1</th>\n",
       "      <td>10850</td>\n",
       "      <td>8068.0</td>\n",
       "    </tr>\n",
       "    <tr>\n",
       "      <th>2</th>\n",
       "      <td>8328</td>\n",
       "      <td>10850.0</td>\n",
       "    </tr>\n",
       "    <tr>\n",
       "      <th>3</th>\n",
       "      <td>7065</td>\n",
       "      <td>8328.0</td>\n",
       "    </tr>\n",
       "    <tr>\n",
       "      <th>4</th>\n",
       "      <td>11892</td>\n",
       "      <td>7065.0</td>\n",
       "    </tr>\n",
       "    <tr>\n",
       "      <th>5</th>\n",
       "      <td>12425</td>\n",
       "      <td>11892.0</td>\n",
       "    </tr>\n",
       "    <tr>\n",
       "      <th>...</th>\n",
       "      <td>...</td>\n",
       "      <td>...</td>\n",
       "    </tr>\n",
       "    <tr>\n",
       "      <th>360</th>\n",
       "      <td>7518</td>\n",
       "      <td>7294.0</td>\n",
       "    </tr>\n",
       "    <tr>\n",
       "      <th>361</th>\n",
       "      <td>13100</td>\n",
       "      <td>7518.0</td>\n",
       "    </tr>\n",
       "    <tr>\n",
       "      <th>362</th>\n",
       "      <td>13458</td>\n",
       "      <td>13100.0</td>\n",
       "    </tr>\n",
       "    <tr>\n",
       "      <th>363</th>\n",
       "      <td>13100</td>\n",
       "      <td>13458.0</td>\n",
       "    </tr>\n",
       "    <tr>\n",
       "      <th>364</th>\n",
       "      <td>11608</td>\n",
       "      <td>13100.0</td>\n",
       "    </tr>\n",
       "  </tbody>\n",
       "</table>\n",
       "<p>364 rows × 2 columns</p>\n",
       "</div>"
      ],
      "text/plain": [
       "         0        0\n",
       "1    10850   8068.0\n",
       "2     8328  10850.0\n",
       "3     7065   8328.0\n",
       "4    11892   7065.0\n",
       "5    12425  11892.0\n",
       "..     ...      ...\n",
       "360   7518   7294.0\n",
       "361  13100   7518.0\n",
       "362  13458  13100.0\n",
       "363  13100  13458.0\n",
       "364  11608  13100.0\n",
       "\n",
       "[364 rows x 2 columns]"
      ]
     },
     "execution_count": 74,
     "metadata": {},
     "output_type": "execute_result"
    }
   ],
   "source": [
    "birthdata_next"
   ]
  },
  {
   "cell_type": "code",
   "execution_count": 77,
   "metadata": {},
   "outputs": [],
   "source": [
    "birthdata_next.columns = ['actual','predicted']"
   ]
  },
  {
   "cell_type": "code",
   "execution_count": 78,
   "metadata": {},
   "outputs": [
    {
     "data": {
      "text/html": [
       "<div>\n",
       "<style scoped>\n",
       "    .dataframe tbody tr th:only-of-type {\n",
       "        vertical-align: middle;\n",
       "    }\n",
       "\n",
       "    .dataframe tbody tr th {\n",
       "        vertical-align: top;\n",
       "    }\n",
       "\n",
       "    .dataframe thead th {\n",
       "        text-align: right;\n",
       "    }\n",
       "</style>\n",
       "<table border=\"1\" class=\"dataframe\">\n",
       "  <thead>\n",
       "    <tr style=\"text-align: right;\">\n",
       "      <th></th>\n",
       "      <th>actual</th>\n",
       "      <th>predicted</th>\n",
       "    </tr>\n",
       "  </thead>\n",
       "  <tbody>\n",
       "    <tr>\n",
       "      <th>1</th>\n",
       "      <td>10850</td>\n",
       "      <td>8068.0</td>\n",
       "    </tr>\n",
       "    <tr>\n",
       "      <th>2</th>\n",
       "      <td>8328</td>\n",
       "      <td>10850.0</td>\n",
       "    </tr>\n",
       "    <tr>\n",
       "      <th>3</th>\n",
       "      <td>7065</td>\n",
       "      <td>8328.0</td>\n",
       "    </tr>\n",
       "    <tr>\n",
       "      <th>4</th>\n",
       "      <td>11892</td>\n",
       "      <td>7065.0</td>\n",
       "    </tr>\n",
       "    <tr>\n",
       "      <th>5</th>\n",
       "      <td>12425</td>\n",
       "      <td>11892.0</td>\n",
       "    </tr>\n",
       "    <tr>\n",
       "      <th>...</th>\n",
       "      <td>...</td>\n",
       "      <td>...</td>\n",
       "    </tr>\n",
       "    <tr>\n",
       "      <th>360</th>\n",
       "      <td>7518</td>\n",
       "      <td>7294.0</td>\n",
       "    </tr>\n",
       "    <tr>\n",
       "      <th>361</th>\n",
       "      <td>13100</td>\n",
       "      <td>7518.0</td>\n",
       "    </tr>\n",
       "    <tr>\n",
       "      <th>362</th>\n",
       "      <td>13458</td>\n",
       "      <td>13100.0</td>\n",
       "    </tr>\n",
       "    <tr>\n",
       "      <th>363</th>\n",
       "      <td>13100</td>\n",
       "      <td>13458.0</td>\n",
       "    </tr>\n",
       "    <tr>\n",
       "      <th>364</th>\n",
       "      <td>11608</td>\n",
       "      <td>13100.0</td>\n",
       "    </tr>\n",
       "  </tbody>\n",
       "</table>\n",
       "<p>364 rows × 2 columns</p>\n",
       "</div>"
      ],
      "text/plain": [
       "     actual  predicted\n",
       "1     10850     8068.0\n",
       "2      8328    10850.0\n",
       "3      7065     8328.0\n",
       "4     11892     7065.0\n",
       "5     12425    11892.0\n",
       "..      ...        ...\n",
       "360    7518     7294.0\n",
       "361   13100     7518.0\n",
       "362   13458    13100.0\n",
       "363   13100    13458.0\n",
       "364   11608    13100.0\n",
       "\n",
       "[364 rows x 2 columns]"
      ]
     },
     "execution_count": 78,
     "metadata": {},
     "output_type": "execute_result"
    }
   ],
   "source": [
    "birthdata_next"
   ]
  },
  {
   "cell_type": "code",
   "execution_count": 85,
   "metadata": {},
   "outputs": [],
   "source": [
    "from sklearn.metrics import mean_squared_error\n",
    "import numpy as np"
   ]
  },
  {
   "cell_type": "code",
   "execution_count": 82,
   "metadata": {},
   "outputs": [],
   "source": [
    "birthdata_next_error = mean_squared_error(birthdata_next.actual , birthdata_next.predicted)"
   ]
  },
  {
   "cell_type": "code",
   "execution_count": 83,
   "metadata": {},
   "outputs": [
    {
     "data": {
      "text/plain": [
       "5162403.576923077"
      ]
     },
     "execution_count": 83,
     "metadata": {},
     "output_type": "execute_result"
    }
   ],
   "source": [
    "birthdata_next_error"
   ]
  },
  {
   "cell_type": "code",
   "execution_count": 86,
   "metadata": {},
   "outputs": [],
   "source": [
    "birthdata_next_error = np.sqrt(birthdata_next_error)"
   ]
  },
  {
   "cell_type": "code",
   "execution_count": 87,
   "metadata": {},
   "outputs": [
    {
     "data": {
      "text/plain": [
       "2272.092334594498"
      ]
     },
     "execution_count": 87,
     "metadata": {},
     "output_type": "execute_result"
    }
   ],
   "source": [
    "birthdata_next_error"
   ]
  },
  {
   "cell_type": "markdown",
   "metadata": {},
   "source": [
    "This a one base line model. Only with shift current value get 2272 error.\n",
    "The std of data set is = 2076 and we come close vale to that which is 2272"
   ]
  }
 ],
 "metadata": {
  "kernelspec": {
   "display_name": "Python 3",
   "language": "python",
   "name": "python3"
  },
  "language_info": {
   "codemirror_mode": {
    "name": "ipython",
    "version": 3
   },
   "file_extension": ".py",
   "mimetype": "text/x-python",
   "name": "python",
   "nbconvert_exporter": "python",
   "pygments_lexer": "ipython3",
   "version": "3.8.6"
  }
 },
 "nbformat": 4,
 "nbformat_minor": 4
}
