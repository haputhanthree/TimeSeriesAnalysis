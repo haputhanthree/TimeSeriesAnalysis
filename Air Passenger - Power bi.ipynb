{
 "cells": [
  {
   "cell_type": "code",
   "execution_count": 3,
   "metadata": {},
   "outputs": [
    {
     "name": "stderr",
     "output_type": "stream",
     "text": [
      "c:\\users\\amilah.axienta\\appdata\\local\\programs\\python\\python38\\lib\\site-packages\\statsmodels\\tsa\\base\\tsa_model.py:159: ValueWarning: No frequency information was provided, so inferred frequency MS will be used.\n",
      "  warnings.warn('No frequency information was'\n",
      "c:\\users\\amilah.axienta\\appdata\\local\\programs\\python\\python38\\lib\\site-packages\\statsmodels\\tsa\\base\\tsa_model.py:159: ValueWarning: No frequency information was provided, so inferred frequency MS will be used.\n",
      "  warnings.warn('No frequency information was'\n"
     ]
    }
   ],
   "source": [
    "import pandas as pd\n",
    "import numpy as np\n",
    "from matplotlib import pyplot\n",
    "from datetime import datetime\n",
    "from statsmodels.tsa.stattools import adfuller\n",
    "\n",
    "from statsmodels.tsa.arima_model import ARIMA\n",
    "\n",
    "def dateparse(x):\n",
    "    return datetime.strptime(x, '%Y-%m')\n",
    "\n",
    "\n",
    "series = pd.read_csv('E:\\Amila\\Amila\\Predictive Analytics\\L&D\\AirPassengers.csv',  index_col='Month',date_parser=dateparse)\n",
    "\n",
    "\n",
    "ts_log = np.log(series['#Passengers'])\n",
    "\n",
    "model = ARIMA(ts_log, order=(2, 1, 2))  \n",
    "results_ARIMA = model.fit(disp=-1)  \n",
    "\n",
    "x = results_ARIMA.forecast(steps =120)\n",
    "predXval = np.exp(x[0])\n",
    "\n",
    "import datetime\n",
    "import calendar\n",
    "\n",
    "def add_months(sourcedate, months):\n",
    "    #sourcedate = datetime.datetime.strptime(sourcedate, '%Y-%m-%d')\n",
    "    month = sourcedate.month - 1 + months\n",
    "    year = sourcedate.year + month // 12\n",
    "    month = month % 12 + 1\n",
    "    day = min(sourcedate.day, calendar.monthrange(year,month)[1])\n",
    "    return datetime.date(year, month, day)\n",
    "\n",
    "x = '2017-05-15'\n",
    "x = datetime.datetime.strptime(x, '%Y-%m-%d')\n",
    "Months = []\n",
    "Months.append(x)\n",
    "\n",
    "for i in range(119):    \n",
    "    x = add_months(x,1)    \n",
    "    Months.append(x)\n",
    "\n",
    "# intialise data of lists. \n",
    "data = {'Name':Months, 'Age':predXval} \n",
    "  \n"
   ]
  },
  {
   "cell_type": "code",
   "execution_count": 4,
   "metadata": {},
   "outputs": [
    {
     "data": {
      "text/plain": [
       "{'Name': [datetime.datetime(2017, 5, 15, 0, 0),\n",
       "  datetime.date(2017, 6, 15),\n",
       "  datetime.date(2017, 7, 15),\n",
       "  datetime.date(2017, 8, 15),\n",
       "  datetime.date(2017, 9, 15),\n",
       "  datetime.date(2017, 10, 15),\n",
       "  datetime.date(2017, 11, 15),\n",
       "  datetime.date(2017, 12, 15),\n",
       "  datetime.date(2018, 1, 15),\n",
       "  datetime.date(2018, 2, 15),\n",
       "  datetime.date(2018, 3, 15),\n",
       "  datetime.date(2018, 4, 15),\n",
       "  datetime.date(2018, 5, 15),\n",
       "  datetime.date(2018, 6, 15),\n",
       "  datetime.date(2018, 7, 15),\n",
       "  datetime.date(2018, 8, 15),\n",
       "  datetime.date(2018, 9, 15),\n",
       "  datetime.date(2018, 10, 15),\n",
       "  datetime.date(2018, 11, 15),\n",
       "  datetime.date(2018, 12, 15),\n",
       "  datetime.date(2019, 1, 15),\n",
       "  datetime.date(2019, 2, 15),\n",
       "  datetime.date(2019, 3, 15),\n",
       "  datetime.date(2019, 4, 15),\n",
       "  datetime.date(2019, 5, 15),\n",
       "  datetime.date(2019, 6, 15),\n",
       "  datetime.date(2019, 7, 15),\n",
       "  datetime.date(2019, 8, 15),\n",
       "  datetime.date(2019, 9, 15),\n",
       "  datetime.date(2019, 10, 15),\n",
       "  datetime.date(2019, 11, 15),\n",
       "  datetime.date(2019, 12, 15),\n",
       "  datetime.date(2020, 1, 15),\n",
       "  datetime.date(2020, 2, 15),\n",
       "  datetime.date(2020, 3, 15),\n",
       "  datetime.date(2020, 4, 15),\n",
       "  datetime.date(2020, 5, 15),\n",
       "  datetime.date(2020, 6, 15),\n",
       "  datetime.date(2020, 7, 15),\n",
       "  datetime.date(2020, 8, 15),\n",
       "  datetime.date(2020, 9, 15),\n",
       "  datetime.date(2020, 10, 15),\n",
       "  datetime.date(2020, 11, 15),\n",
       "  datetime.date(2020, 12, 15),\n",
       "  datetime.date(2021, 1, 15),\n",
       "  datetime.date(2021, 2, 15),\n",
       "  datetime.date(2021, 3, 15),\n",
       "  datetime.date(2021, 4, 15),\n",
       "  datetime.date(2021, 5, 15),\n",
       "  datetime.date(2021, 6, 15),\n",
       "  datetime.date(2021, 7, 15),\n",
       "  datetime.date(2021, 8, 15),\n",
       "  datetime.date(2021, 9, 15),\n",
       "  datetime.date(2021, 10, 15),\n",
       "  datetime.date(2021, 11, 15),\n",
       "  datetime.date(2021, 12, 15),\n",
       "  datetime.date(2022, 1, 15),\n",
       "  datetime.date(2022, 2, 15),\n",
       "  datetime.date(2022, 3, 15),\n",
       "  datetime.date(2022, 4, 15),\n",
       "  datetime.date(2022, 5, 15),\n",
       "  datetime.date(2022, 6, 15),\n",
       "  datetime.date(2022, 7, 15),\n",
       "  datetime.date(2022, 8, 15),\n",
       "  datetime.date(2022, 9, 15),\n",
       "  datetime.date(2022, 10, 15),\n",
       "  datetime.date(2022, 11, 15),\n",
       "  datetime.date(2022, 12, 15),\n",
       "  datetime.date(2023, 1, 15),\n",
       "  datetime.date(2023, 2, 15),\n",
       "  datetime.date(2023, 3, 15),\n",
       "  datetime.date(2023, 4, 15),\n",
       "  datetime.date(2023, 5, 15),\n",
       "  datetime.date(2023, 6, 15),\n",
       "  datetime.date(2023, 7, 15),\n",
       "  datetime.date(2023, 8, 15),\n",
       "  datetime.date(2023, 9, 15),\n",
       "  datetime.date(2023, 10, 15),\n",
       "  datetime.date(2023, 11, 15),\n",
       "  datetime.date(2023, 12, 15),\n",
       "  datetime.date(2024, 1, 15),\n",
       "  datetime.date(2024, 2, 15),\n",
       "  datetime.date(2024, 3, 15),\n",
       "  datetime.date(2024, 4, 15),\n",
       "  datetime.date(2024, 5, 15),\n",
       "  datetime.date(2024, 6, 15),\n",
       "  datetime.date(2024, 7, 15),\n",
       "  datetime.date(2024, 8, 15),\n",
       "  datetime.date(2024, 9, 15),\n",
       "  datetime.date(2024, 10, 15),\n",
       "  datetime.date(2024, 11, 15),\n",
       "  datetime.date(2024, 12, 15),\n",
       "  datetime.date(2025, 1, 15),\n",
       "  datetime.date(2025, 2, 15),\n",
       "  datetime.date(2025, 3, 15),\n",
       "  datetime.date(2025, 4, 15),\n",
       "  datetime.date(2025, 5, 15),\n",
       "  datetime.date(2025, 6, 15),\n",
       "  datetime.date(2025, 7, 15),\n",
       "  datetime.date(2025, 8, 15),\n",
       "  datetime.date(2025, 9, 15),\n",
       "  datetime.date(2025, 10, 15),\n",
       "  datetime.date(2025, 11, 15),\n",
       "  datetime.date(2025, 12, 15),\n",
       "  datetime.date(2026, 1, 15),\n",
       "  datetime.date(2026, 2, 15),\n",
       "  datetime.date(2026, 3, 15),\n",
       "  datetime.date(2026, 4, 15),\n",
       "  datetime.date(2026, 5, 15),\n",
       "  datetime.date(2026, 6, 15),\n",
       "  datetime.date(2026, 7, 15),\n",
       "  datetime.date(2026, 8, 15),\n",
       "  datetime.date(2026, 9, 15),\n",
       "  datetime.date(2026, 10, 15),\n",
       "  datetime.date(2026, 11, 15),\n",
       "  datetime.date(2026, 12, 15),\n",
       "  datetime.date(2027, 1, 15),\n",
       "  datetime.date(2027, 2, 15),\n",
       "  datetime.date(2027, 3, 15),\n",
       "  datetime.date(2027, 4, 15)],\n",
       " 'Age': array([ 443.87097467,  470.03822976,  504.93497604,  540.45480072,\n",
       "         567.73067691,  580.3280688 ,  577.00261492,  561.93881061,\n",
       "         542.38458467,  525.56666832,  516.65904592,  518.14319123,\n",
       "         529.93707998,  549.71669174,  573.36060226,  595.78892165,\n",
       "         612.33142651,  620.24241045,  619.59542006,  613.03663463,\n",
       "         604.59653422,  598.26629036,  596.94837332,  601.96231614,\n",
       "         612.98271654,  628.25987422,  645.07988565,  660.46203978,\n",
       "         671.98831897,  678.50379885,  680.39635918,  679.34125073,\n",
       "         677.65951306,  677.58607796,  680.69812992,  687.61103176,\n",
       "         697.9367009 ,  710.46187557,  723.50162334,  735.36360921,\n",
       "         744.81236491,  751.39197483,  755.4982843 ,  758.18763855,\n",
       "         760.81216134,  764.6203645 ,  770.44221554,  778.52260043,\n",
       "         788.51612875,  799.62440149,  810.83603705,  821.20977661,\n",
       "         830.12548957,  837.43142607,  843.44747976,  848.83371186,\n",
       "         854.37716561,  860.76836518,  868.42943486,  877.4304951 ,\n",
       "         887.50370879,  898.14186716,  908.75127671,  918.81709205,\n",
       "         928.03627293,  936.3828012 ,  944.09099505,  951.56846065,\n",
       "         959.2702318 ,  967.57305017,  976.68329558,  986.5985785 ,\n",
       "         997.12715254, 1007.95497095, 1018.73949003, 1029.20379719,\n",
       "        1039.2057812 , 1048.76516919, 1058.044235  , 1067.29155471,\n",
       "        1076.76776835, 1086.67523228, 1097.10985681, 1108.04551524,\n",
       "        1119.35198031, 1130.83877098, 1142.311305  , 1153.62351794,\n",
       "        1164.71310591, 1175.61122999, 1186.4261817 , 1197.30775756,\n",
       "        1208.40376501, 1219.8210724 , 1231.60112155, 1243.71500782,\n",
       "        1256.07764246, 1268.57559875, 1281.10011858, 1293.57606396,\n",
       "        1305.97939181, 1318.33941387, 1330.72654678, 1343.2301421 ,\n",
       "        1355.93325052, 1368.89134792, 1382.12031982, 1395.59605037,\n",
       "        1409.26468935, 1423.05994131, 1436.92217611, 1450.81410747,\n",
       "        1464.72913708, 1478.69075937, 1492.74396892, 1506.94168444,\n",
       "        1521.33026973, 1535.93809866, 1550.76993631, 1565.80811092])}"
      ]
     },
     "execution_count": 4,
     "metadata": {},
     "output_type": "execute_result"
    }
   ],
   "source": [
    " data"
   ]
  },
  {
   "cell_type": "code",
   "execution_count": null,
   "metadata": {},
   "outputs": [],
   "source": []
  },
  {
   "cell_type": "code",
   "execution_count": 5,
   "metadata": {},
   "outputs": [
    {
     "name": "stdout",
     "output_type": "stream",
     "text": [
      "2017-05-15 00:00:00     443.870975\n",
      "2017-06-15              470.038230\n",
      "2017-07-15              504.934976\n",
      "2017-08-15              540.454801\n",
      "2017-09-15              567.730677\n",
      "                          ...     \n",
      "2026-12-15             1506.941684\n",
      "2027-01-15             1521.330270\n",
      "2027-02-15             1535.938099\n",
      "2027-03-15             1550.769936\n",
      "2027-04-15             1565.808111\n",
      "Length: 120, dtype: float64\n"
     ]
    }
   ],
   "source": [
    "# Create DataFrame \n",
    "df_Af_predict = pd.DataFrame(data)\n",
    "\n",
    "data2 = pd.Series(data=data['Age'], index=data['Name'] )\n",
    "print(data2)"
   ]
  },
  {
   "cell_type": "code",
   "execution_count": 11,
   "metadata": {},
   "outputs": [],
   "source": []
  },
  {
   "cell_type": "code",
   "execution_count": 20,
   "metadata": {},
   "outputs": [
    {
     "data": {
      "text/plain": [
       "[<matplotlib.lines.Line2D at 0x1879ad55ca0>]"
      ]
     },
     "execution_count": 20,
     "metadata": {},
     "output_type": "execute_result"
    },
    {
     "data": {
      "image/png": "[encoded data removed]",
      "text/plain": [
       "<Figure size 432x288 with 1 Axes>"
      ]
     },
     "metadata": {
      "needs_background": "light"
     },
     "output_type": "display_data"
    }
   ],
   "source": [
    "pyplot.plot(data2)"
   ]
  },
  {
   "cell_type": "code",
   "execution_count": null,
   "metadata": {},
   "outputs": [],
   "source": []
  }
 ],
 "metadata": {
  "kernelspec": {
   "display_name": "Python 3",
   "language": "python",
   "name": "python3"
  },
  "language_info": {
   "codemirror_mode": {
    "name": "ipython",
    "version": 3
   },
   "file_extension": ".py",
   "mimetype": "text/x-python",
   "name": "python",
   "nbconvert_exporter": "python",
   "pygments_lexer": "ipython3",
   "version": "3.8.6"
  }
 },
 "nbformat": 4,
 "nbformat_minor": 4
}
